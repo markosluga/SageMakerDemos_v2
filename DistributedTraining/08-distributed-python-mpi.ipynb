{
 "cells": [
  {
   "cell_type": "markdown",
   "metadata": {},
   "source": [
    "# Distributed Training using MPI on Amazon SageMaker\n",
    "\n",
    "***This notebook should be deployed in Amazon SageMaker Studio on a ml.t3.medium instance with Python 3 (Data Science) kernel in the Oregon (us-west-2) region for the hyperllinks to the console to work correctly***\n",
    "\n",
    "[Open MPI](https://mpi4py.readthedocs.io/en/stable/overview.html) is a tool that allows us to convert a single-threaded python program into a parallel python program. \n",
    "\n",
    "SageMaker can use MPI to deploy multiple python threads on a single instance, or set up multiple instances with multiple threads each. In this demo we will deploy **multiple instances** that will run 2 parallel processes each. \n",
    "\n",
    "The mpi_demo.py python script provided in this demo ensures each process spawned looks for other processes and communicates with them. \n",
    "\n",
    "If the process can not communicate wiht other spawned processes it will fail and thus the training job would fail aswell. \n",
    "\n",
    "This functionality deonstrates that a single threaded process is being parallelized, which means you can import your existing single threaded training scripts and paralelize them with ease. \n"
   ]
  },
  {
   "cell_type": "markdown",
   "metadata": {},
   "source": [
    "## Let's deploy MPI! (emphasize this is a simmulation)\n",
    "\n",
    "In the code below, note the **`distribution`** enables the use of MPI. Here, we can define the number of processes per host, which is set to 2.\n",
    "\n",
    "The number of instances is defined in the training configuration with **`instance_count`** which is set to 5.\n",
    "\n",
    "We are thus looking for 10 processes to be spawned and start communicating with each other.\n",
    "\n",
    "To prove that this is happening, look for the following message in the output of the next code run:\n",
    "\n",
    "**`[1,0]<stdout>:Number of MPI processes that will talk to each other: 10[1,0]<stdout>:`**\n",
    "\n",
    "Feel free to also inspect the [training job](https://us-west-2.console.aws.amazon.com/sagemaker/home?region=us-west-2#/jobs) once you have ran the code below. \n",
    "\n",
    "Feel free to change the **`processes_per_host`**, **`instance_type`** and **`instacne_count`** if you would like to test a different number of distributed processes. Please keep the  **`instacne_count`** within your [account quotas](https://us-west-2.console.aws.amazon.com/servicequotas/home/services/sagemaker/quotas).\n",
    "\n",
    "This following code should take 3-4 minutes to complete."
   ]
  },
  {
   "cell_type": "code",
   "execution_count": null,
   "metadata": {},
   "outputs": [],
   "source": [
    "import sagemaker\n",
    "from sagemaker import get_execution_role\n",
    "from sagemaker.tensorflow import TensorFlow\n",
    "\n",
    "role = get_execution_role()\n",
    "\n",
    "# distribution enables running 2 processes per host on 5 instances.\n",
    "\n",
    "distribution = {\"mpi\": {\"enabled\": True, \"processes_per_host\": 2}}\n",
    "\n",
    "tfest = TensorFlow(\n",
    "    entry_point=\"mpi_demo.py\",\n",
    "    role=role,\n",
    "    framework_version=\"2.3.0\",\n",
    "    distribution=distribution,\n",
    "    py_version=\"py37\",\n",
    "    instance_count=5,\n",
    "    instance_type=\"ml.c5.xlarge\",  # 4 cores\n",
    "    output_path=\"s3://\" + sagemaker.Session().default_bucket() + \"/\" + \"mpi\",\n",
    ")\n",
    "\n",
    "tfest.fit()"
   ]
  }
 ],
 "metadata": {
  "instance_type": "ml.t3.medium",
  "kernelspec": {
   "display_name": "Python 3 (Data Science)",
   "language": "python",
   "name": "python3__SAGEMAKER_INTERNAL__arn:aws:sagemaker:us-west-2:236514542706:image/datascience-1.0"
  },
  "language_info": {
   "codemirror_mode": {
    "name": "ipython",
    "version": 3
   },
   "file_extension": ".py",
   "mimetype": "text/x-python",
   "name": "python",
   "nbconvert_exporter": "python",
   "pygments_lexer": "ipython3",
   "version": "3.7.10"
  }
 },
 "nbformat": 4,
 "nbformat_minor": 5
}
