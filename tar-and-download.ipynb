{
 "cells": [
  {
   "cell_type": "code",
   "execution_count": 2,
   "metadata": {},
   "outputs": [
    {
     "name": "stdout",
     "output_type": "stream",
     "text": [
      "ModelMonitoring-completed.ipynb\n",
      "ModelMonitoring.ipynb\n",
      "__pycache__/\n",
      "__pycache__/utils.cpython-37.pyc\n",
      "model/\n",
      "model/xgb-churn-prediction-model.tar.gz\n",
      "postprocessor.py\n",
      "preprocessor.py\n",
      "tar-and-download.ipynb\n",
      "test_data/\n",
      "test_data/training-dataset-without-header.csv\n",
      "test_data/training-dataset-with-header.csv\n",
      "test_data/test-dataset-input-cols.csv\n",
      "test_data/validation.csv\n",
      "test_data/upload-test-file.txt\n",
      "test_data/test-dataset.csv\n",
      "test_data/test_sample.csv\n",
      "utils.py\n"
     ]
    }
   ],
   "source": [
    "!tar chvfz monitoring.tar.gz *"
   ]
  },
  {
   "cell_type": "code",
   "execution_count": null,
   "metadata": {},
   "outputs": [],
   "source": []
  }
 ],
 "metadata": {
  "instance_type": "ml.t3.medium",
  "kernelspec": {
   "display_name": "Python 3 (Data Science)",
   "language": "python",
   "name": "python3__SAGEMAKER_INTERNAL__arn:aws:sagemaker:us-west-2:236514542706:image/datascience-1.0"
  },
  "language_info": {
   "codemirror_mode": {
    "name": "ipython",
    "version": 3
   },
   "file_extension": ".py",
   "mimetype": "text/x-python",
   "name": "python",
   "nbconvert_exporter": "python",
   "pygments_lexer": "ipython3",
   "version": "3.7.10"
  }
 },
 "nbformat": 4,
 "nbformat_minor": 4
}
